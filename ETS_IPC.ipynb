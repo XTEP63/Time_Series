{
 "cells": [
  {
   "cell_type": "code",
   "execution_count": 1,
   "metadata": {},
   "outputs": [],
   "source": [
    "import pandas as pd\n",
    "import yfinance as yf"
   ]
  },
  {
   "cell_type": "code",
   "execution_count": 2,
   "metadata": {},
   "outputs": [
    {
     "name": "stderr",
     "output_type": "stream",
     "text": [
      "[*********************100%***********************]  28 of 28 completed\n"
     ]
    },
    {
     "data": {
      "text/html": [
       "<div>\n",
       "<style scoped>\n",
       "    .dataframe tbody tr th:only-of-type {\n",
       "        vertical-align: middle;\n",
       "    }\n",
       "\n",
       "    .dataframe tbody tr th {\n",
       "        vertical-align: top;\n",
       "    }\n",
       "\n",
       "    .dataframe thead th {\n",
       "        text-align: right;\n",
       "    }\n",
       "</style>\n",
       "<table border=\"1\" class=\"dataframe\">\n",
       "  <thead>\n",
       "    <tr style=\"text-align: right;\">\n",
       "      <th>Ticker</th>\n",
       "      <th>AC.MX</th>\n",
       "      <th>ALSEA.MX</th>\n",
       "      <th>AMXB.MX</th>\n",
       "      <th>ASURB.MX</th>\n",
       "      <th>BBAJIOO.MX</th>\n",
       "      <th>BIMBOA.MX</th>\n",
       "      <th>BOLSAA.MX</th>\n",
       "      <th>CEMEXCPO.MX</th>\n",
       "      <th>CHDRAUIB.MX</th>\n",
       "      <th>CUERVO.MX</th>\n",
       "      <th>...</th>\n",
       "      <th>KOFUBL.MX</th>\n",
       "      <th>LABB.MX</th>\n",
       "      <th>MEGACPO.MX</th>\n",
       "      <th>OMAB.MX</th>\n",
       "      <th>ORBIA.MX</th>\n",
       "      <th>PINFRA.MX</th>\n",
       "      <th>Q.MX</th>\n",
       "      <th>RA.MX</th>\n",
       "      <th>TLEVISACPO.MX</th>\n",
       "      <th>VESTA.MX</th>\n",
       "    </tr>\n",
       "    <tr>\n",
       "      <th>Date</th>\n",
       "      <th></th>\n",
       "      <th></th>\n",
       "      <th></th>\n",
       "      <th></th>\n",
       "      <th></th>\n",
       "      <th></th>\n",
       "      <th></th>\n",
       "      <th></th>\n",
       "      <th></th>\n",
       "      <th></th>\n",
       "      <th></th>\n",
       "      <th></th>\n",
       "      <th></th>\n",
       "      <th></th>\n",
       "      <th></th>\n",
       "      <th></th>\n",
       "      <th></th>\n",
       "      <th></th>\n",
       "      <th></th>\n",
       "      <th></th>\n",
       "      <th></th>\n",
       "    </tr>\n",
       "  </thead>\n",
       "  <tbody>\n",
       "    <tr>\n",
       "      <th>2015-01-01 00:00:00+00:00</th>\n",
       "      <td>65.702614</td>\n",
       "      <td>37.795326</td>\n",
       "      <td>11.671398</td>\n",
       "      <td>152.225357</td>\n",
       "      <td>NaN</td>\n",
       "      <td>34.200211</td>\n",
       "      <td>15.430021</td>\n",
       "      <td>11.531771</td>\n",
       "      <td>37.656040</td>\n",
       "      <td>NaN</td>\n",
       "      <td>...</td>\n",
       "      <td>NaN</td>\n",
       "      <td>19.345699</td>\n",
       "      <td>38.958511</td>\n",
       "      <td>38.346146</td>\n",
       "      <td>32.615501</td>\n",
       "      <td>130.751801</td>\n",
       "      <td>NaN</td>\n",
       "      <td>56.302021</td>\n",
       "      <td>88.730598</td>\n",
       "      <td>23.547865</td>\n",
       "    </tr>\n",
       "    <tr>\n",
       "      <th>2015-02-01 00:00:00+00:00</th>\n",
       "      <td>70.285492</td>\n",
       "      <td>43.193317</td>\n",
       "      <td>11.671398</td>\n",
       "      <td>159.254837</td>\n",
       "      <td>NaN</td>\n",
       "      <td>37.858753</td>\n",
       "      <td>16.780148</td>\n",
       "      <td>13.125944</td>\n",
       "      <td>44.382278</td>\n",
       "      <td>NaN</td>\n",
       "      <td>...</td>\n",
       "      <td>NaN</td>\n",
       "      <td>13.299149</td>\n",
       "      <td>39.022587</td>\n",
       "      <td>39.573227</td>\n",
       "      <td>34.200764</td>\n",
       "      <td>138.726151</td>\n",
       "      <td>NaN</td>\n",
       "      <td>57.645134</td>\n",
       "      <td>92.414078</td>\n",
       "      <td>23.328474</td>\n",
       "    </tr>\n",
       "    <tr>\n",
       "      <th>2015-03-01 00:00:00+00:00</th>\n",
       "      <td>69.477196</td>\n",
       "      <td>42.006329</td>\n",
       "      <td>11.124300</td>\n",
       "      <td>159.635452</td>\n",
       "      <td>NaN</td>\n",
       "      <td>38.791317</td>\n",
       "      <td>16.133081</td>\n",
       "      <td>12.536795</td>\n",
       "      <td>41.835011</td>\n",
       "      <td>NaN</td>\n",
       "      <td>...</td>\n",
       "      <td>NaN</td>\n",
       "      <td>11.775290</td>\n",
       "      <td>42.517670</td>\n",
       "      <td>41.436150</td>\n",
       "      <td>31.358217</td>\n",
       "      <td>126.094238</td>\n",
       "      <td>NaN</td>\n",
       "      <td>56.418163</td>\n",
       "      <td>91.677376</td>\n",
       "      <td>23.035957</td>\n",
       "    </tr>\n",
       "    <tr>\n",
       "      <th>2015-04-01 00:00:00+00:00</th>\n",
       "      <td>69.892456</td>\n",
       "      <td>43.400570</td>\n",
       "      <td>11.737051</td>\n",
       "      <td>168.668915</td>\n",
       "      <td>NaN</td>\n",
       "      <td>36.944115</td>\n",
       "      <td>18.360481</td>\n",
       "      <td>13.335611</td>\n",
       "      <td>41.735294</td>\n",
       "      <td>NaN</td>\n",
       "      <td>...</td>\n",
       "      <td>NaN</td>\n",
       "      <td>14.749669</td>\n",
       "      <td>45.450420</td>\n",
       "      <td>42.735737</td>\n",
       "      <td>34.585354</td>\n",
       "      <td>136.695770</td>\n",
       "      <td>NaN</td>\n",
       "      <td>63.874283</td>\n",
       "      <td>101.554527</td>\n",
       "      <td>23.328474</td>\n",
       "    </tr>\n",
       "    <tr>\n",
       "      <th>2015-05-01 00:00:00+00:00</th>\n",
       "      <td>70.519684</td>\n",
       "      <td>43.626663</td>\n",
       "      <td>11.744344</td>\n",
       "      <td>176.417740</td>\n",
       "      <td>NaN</td>\n",
       "      <td>37.374535</td>\n",
       "      <td>16.991686</td>\n",
       "      <td>12.993212</td>\n",
       "      <td>42.756985</td>\n",
       "      <td>NaN</td>\n",
       "      <td>...</td>\n",
       "      <td>NaN</td>\n",
       "      <td>13.535470</td>\n",
       "      <td>46.048355</td>\n",
       "      <td>40.197922</td>\n",
       "      <td>36.726284</td>\n",
       "      <td>130.000076</td>\n",
       "      <td>NaN</td>\n",
       "      <td>61.689007</td>\n",
       "      <td>105.901932</td>\n",
       "      <td>22.910900</td>\n",
       "    </tr>\n",
       "  </tbody>\n",
       "</table>\n",
       "<p>5 rows × 28 columns</p>\n",
       "</div>"
      ],
      "text/plain": [
       "Ticker                         AC.MX   ALSEA.MX    AMXB.MX    ASURB.MX  \\\n",
       "Date                                                                     \n",
       "2015-01-01 00:00:00+00:00  65.702614  37.795326  11.671398  152.225357   \n",
       "2015-02-01 00:00:00+00:00  70.285492  43.193317  11.671398  159.254837   \n",
       "2015-03-01 00:00:00+00:00  69.477196  42.006329  11.124300  159.635452   \n",
       "2015-04-01 00:00:00+00:00  69.892456  43.400570  11.737051  168.668915   \n",
       "2015-05-01 00:00:00+00:00  70.519684  43.626663  11.744344  176.417740   \n",
       "\n",
       "Ticker                     BBAJIOO.MX  BIMBOA.MX  BOLSAA.MX  CEMEXCPO.MX  \\\n",
       "Date                                                                       \n",
       "2015-01-01 00:00:00+00:00         NaN  34.200211  15.430021    11.531771   \n",
       "2015-02-01 00:00:00+00:00         NaN  37.858753  16.780148    13.125944   \n",
       "2015-03-01 00:00:00+00:00         NaN  38.791317  16.133081    12.536795   \n",
       "2015-04-01 00:00:00+00:00         NaN  36.944115  18.360481    13.335611   \n",
       "2015-05-01 00:00:00+00:00         NaN  37.374535  16.991686    12.993212   \n",
       "\n",
       "Ticker                     CHDRAUIB.MX  CUERVO.MX  ...  KOFUBL.MX    LABB.MX  \\\n",
       "Date                                               ...                         \n",
       "2015-01-01 00:00:00+00:00    37.656040        NaN  ...        NaN  19.345699   \n",
       "2015-02-01 00:00:00+00:00    44.382278        NaN  ...        NaN  13.299149   \n",
       "2015-03-01 00:00:00+00:00    41.835011        NaN  ...        NaN  11.775290   \n",
       "2015-04-01 00:00:00+00:00    41.735294        NaN  ...        NaN  14.749669   \n",
       "2015-05-01 00:00:00+00:00    42.756985        NaN  ...        NaN  13.535470   \n",
       "\n",
       "Ticker                     MEGACPO.MX    OMAB.MX   ORBIA.MX   PINFRA.MX  Q.MX  \\\n",
       "Date                                                                            \n",
       "2015-01-01 00:00:00+00:00   38.958511  38.346146  32.615501  130.751801   NaN   \n",
       "2015-02-01 00:00:00+00:00   39.022587  39.573227  34.200764  138.726151   NaN   \n",
       "2015-03-01 00:00:00+00:00   42.517670  41.436150  31.358217  126.094238   NaN   \n",
       "2015-04-01 00:00:00+00:00   45.450420  42.735737  34.585354  136.695770   NaN   \n",
       "2015-05-01 00:00:00+00:00   46.048355  40.197922  36.726284  130.000076   NaN   \n",
       "\n",
       "Ticker                         RA.MX  TLEVISACPO.MX   VESTA.MX  \n",
       "Date                                                            \n",
       "2015-01-01 00:00:00+00:00  56.302021      88.730598  23.547865  \n",
       "2015-02-01 00:00:00+00:00  57.645134      92.414078  23.328474  \n",
       "2015-03-01 00:00:00+00:00  56.418163      91.677376  23.035957  \n",
       "2015-04-01 00:00:00+00:00  63.874283     101.554527  23.328474  \n",
       "2015-05-01 00:00:00+00:00  61.689007     105.901932  22.910900  \n",
       "\n",
       "[5 rows x 28 columns]"
      ]
     },
     "execution_count": 2,
     "metadata": {},
     "output_type": "execute_result"
    }
   ],
   "source": [
    "ticker = yf.Tickers([\"LABB.MX\", \"VESTA.MX\", \"ORBIA.MX\", \"GFNORTEO.MX\", \"BBAJIOO.MX\", \"MEGACPO.MX\",\n",
    "                     \"AC.MX\", \"GCC.MX\", \"GENTERA.MX\", \"CUERVO.MX\", \"AMXB.MX\", \"GCARSOA1.MX\",\n",
    "                     \"KIMBERA.MX\", \"GMEXICOB.MX\", \"CHDRAUIB.MX\", \"GRUMAB.MX\", \"KOFUBL.MX\",\n",
    "                     \"RA.MX\", \"BOLSAA.MX\", \"ALSEA.MX\", \"TLEVISACPO.MX\", \"Q.MX\", \"BIMBOA.MX\",\n",
    "                     \"PINFRA.MX\", \"GAPB.MX\", \"ASURB.MX\", \"OMAB.MX\", \"CEMEXCPO.MX\"])\n",
    "data = ticker.history(start= '2015-01-01', end= '2023-12-31', interval='1mo')['Close']\n",
    "\n",
    "data.head()"
   ]
  },
  {
   "cell_type": "code",
   "execution_count": 3,
   "metadata": {},
   "outputs": [],
   "source": [
    "data.index = data.index.strftime('%Y-%m')\n",
    "data.index = pd.to_datetime(data.index)"
   ]
  },
  {
   "cell_type": "code",
   "execution_count": 4,
   "metadata": {},
   "outputs": [],
   "source": [
    "data = data.melt(ignore_index=False)"
   ]
  },
  {
   "cell_type": "code",
   "execution_count": 5,
   "metadata": {},
   "outputs": [],
   "source": [
    "df = pd.DataFrame({\"ds\": data.index,\n",
    "                   \"y\": data['value'],\n",
    "                   \"unique_id\": data['Ticker']})\n",
    "df.reset_index(drop=True, inplace=True)"
   ]
  },
  {
   "cell_type": "code",
   "execution_count": 6,
   "metadata": {},
   "outputs": [],
   "source": [
    "df.dropna(inplace=True)"
   ]
  },
  {
   "cell_type": "code",
   "execution_count": 7,
   "metadata": {},
   "outputs": [],
   "source": [
    "train = df[df.ds<'2023-01-01']\n",
    "test = df[df.ds>='2023-01-01']"
   ]
  },
  {
   "cell_type": "code",
   "execution_count": 10,
   "metadata": {},
   "outputs": [
    {
     "name": "stderr",
     "output_type": "stream",
     "text": [
      "c:\\Users\\esteb\\.conda\\envs\\ITESO\\lib\\site-packages\\tqdm\\auto.py:21: TqdmWarning: IProgress not found. Please update jupyter and ipywidgets. See https://ipywidgets.readthedocs.io/en/stable/user_install.html\n",
      "  from .autonotebook import tqdm as notebook_tqdm\n"
     ]
    }
   ],
   "source": [
    "from statsforecast.models import AutoETS\n",
    "from statsforecast import StatsForecast"
   ]
  },
  {
   "cell_type": "code",
   "execution_count": 11,
   "metadata": {},
   "outputs": [],
   "source": [
    "season_length = 12 # Monthly data\n",
    "horizon = len(test['ds'].unique()) # number of predictions\n",
    "\n",
    "models = [AutoETS(season_length=season_length, model='ZZZ')]"
   ]
  },
  {
   "cell_type": "code",
   "execution_count": 12,
   "metadata": {},
   "outputs": [
    {
     "name": "stderr",
     "output_type": "stream",
     "text": [
      "c:\\Users\\esteb\\.conda\\envs\\ITESO\\lib\\site-packages\\statsforecast\\core.py:476: FutureWarning: The `df` argument of the StatsForecast constructor as well as reusing stored dfs from other methods is deprecated and will raise an error in a future version. Please provide the `df` argument to the corresponding method instead, e.g. fit/forecast.\n",
      "  warnings.warn(\n"
     ]
    }
   ],
   "source": [
    "sf = StatsForecast(df=train,\n",
    "                   models=models,\n",
    "                   freq='MS', \n",
    "                   n_jobs=-1)"
   ]
  },
  {
   "cell_type": "code",
   "execution_count": 13,
   "metadata": {},
   "outputs": [
    {
     "name": "stderr",
     "output_type": "stream",
     "text": [
      "c:\\Users\\esteb\\.conda\\envs\\ITESO\\lib\\site-packages\\statsforecast\\core.py:476: FutureWarning: The `df` argument of the StatsForecast constructor as well as reusing stored dfs from other methods is deprecated and will raise an error in a future version. Please provide the `df` argument to the corresponding method instead, e.g. fit/forecast.\n",
      "  warnings.warn(\n"
     ]
    },
    {
     "data": {
      "text/plain": [
       "StatsForecast(models=[AutoETS])"
      ]
     },
     "execution_count": 13,
     "metadata": {},
     "output_type": "execute_result"
    }
   ],
   "source": [
    "sf.fit()"
   ]
  },
  {
   "cell_type": "code",
   "execution_count": 14,
   "metadata": {},
   "outputs": [
    {
     "name": "stderr",
     "output_type": "stream",
     "text": [
      "c:\\Users\\esteb\\.conda\\envs\\ITESO\\lib\\site-packages\\statsforecast\\core.py:494: FutureWarning: In a future version the predictions will have the id as a column. You can set the `NIXTLA_ID_AS_COL` environment variable to adopt the new behavior and to suppress this warning.\n",
      "  warnings.warn(\n"
     ]
    }
   ],
   "source": [
    "test_hat = sf.forecast(fitted = True ,h=horizon)"
   ]
  },
  {
   "cell_type": "code",
   "execution_count": 16,
   "metadata": {},
   "outputs": [
    {
     "name": "stderr",
     "output_type": "stream",
     "text": [
      "c:\\Users\\esteb\\.conda\\envs\\ITESO\\lib\\site-packages\\statsforecast\\core.py:494: FutureWarning: In a future version the predictions will have the id as a column. You can set the `NIXTLA_ID_AS_COL` environment variable to adopt the new behavior and to suppress this warning.\n",
      "  warnings.warn(\n"
     ]
    }
   ],
   "source": [
    "train_hat = sf.forecast_fitted_values()"
   ]
  },
  {
   "cell_type": "code",
   "execution_count": 17,
   "metadata": {},
   "outputs": [],
   "source": [
    "def model_evaluation(y_true, y_pred, stocks): \n",
    "    errors_df = pd.DataFrame(columns=['MAPE'], index=stocks)\n",
    "    def mean_absolute_percentage_error(y_true, y_pred): \n",
    "        y_true, y_pred = np.array(y_true), np.array(y_pred) \n",
    "        return np.mean(np.abs((y_true - y_pred) / y_true)) * 100 \n",
    "    \n",
    "    for stock in stocks: \n",
    "        y_true_stock = y_true[y_true['unique_id'] == stock]['y'] \n",
    "        y_pred_stock = y_pred[test_hat.index == stock]['AutoETS'] \n",
    "        print(f\"MAPE score for {stock}: {mean_absolute_percentage_error(y_true_stock, y_pred_stock)}\") \n",
    "        errors_df.loc[stock, 'MAPE'] = mean_absolute_percentage_error(y_true_stock, y_pred_stock) \n",
    "        return errors_df"
   ]
  },
  {
   "cell_type": "code",
   "execution_count": 18,
   "metadata": {},
   "outputs": [],
   "source": [
    "import seaborn as sns\n",
    "import matplotlib.pyplot as plt"
   ]
  },
  {
   "cell_type": "code",
   "execution_count": 19,
   "metadata": {},
   "outputs": [
    {
     "data": {
      "image/png": "[encoded data removed]",
      "text/plain": [
       "<Figure size 640x480 with 1 Axes>"
      ]
     },
     "metadata": {},
     "output_type": "display_data"
    }
   ],
   "source": [
    "sns.lineplot(train[train['unique_id'] == 'GENTERA.MX'], x=\"ds\", y=\"y\", label=\"Train\") \n",
    "sns.lineplot(test[test['unique_id'] == 'GENTERA.MX'], x=\"ds\", y=\"y\", label=\"Test\") \n",
    "sns.lineplot(test_hat[test_hat.index == 'GENTERA.MX'], x=\"ds\", y=\"AutoETS\", label=\"Forecast\",)\n",
    "plt.show()"
   ]
  },
  {
   "cell_type": "code",
   "execution_count": 20,
   "metadata": {},
   "outputs": [
    {
     "data": {
      "text/plain": [
       "'ETS(M,N,N)'"
      ]
     },
     "execution_count": 20,
     "metadata": {},
     "output_type": "execute_result"
    }
   ],
   "source": [
    "sf.fitted_[14,0].model_['method']"
   ]
  },
  {
   "cell_type": "code",
   "execution_count": 22,
   "metadata": {},
   "outputs": [
    {
     "data": {
      "image/png": "[encoded data removed]",
      "text/plain": [
       "<Figure size 640x480 with 1 Axes>"
      ]
     },
     "metadata": {},
     "output_type": "display_data"
    }
   ],
   "source": [
    "sns.lineplot(train[train['unique_id'] == 'Q.MX'], x=\"ds\", y=\"y\", label=\"Train\")\n",
    "sns.lineplot(test[test['unique_id'] == 'Q.MX'], x=\"ds\", y=\"y\", label=\"Test\")\n",
    "sns.lineplot(test_hat[test_hat.index == 'Q.MX'], x=\"ds\", y=\"AutoETS\", label=\"Forecast\",)\n",
    "plt.show()"
   ]
  },
  {
   "cell_type": "markdown",
   "metadata": {},
   "source": [
    "Vemos como con alugas de las series de tiempo el modelo AutoETS es un buen predictor para las series de tiempo. Sien embargo en otros casos no es tan util dado que vemos como en modelos en los que hay estacionalidad ni tendencia no se muy buena manera "
   ]
  }
 ],
 "metadata": {
  "kernelspec": {
   "display_name": "ITESO",
   "language": "python",
   "name": "python3"
  },
  "language_info": {
   "codemirror_mode": {
    "name": "ipython",
    "version": 3
   },
   "file_extension": ".py",
   "mimetype": "text/x-python",
   "name": "python",
   "nbconvert_exporter": "python",
   "pygments_lexer": "ipython3",
   "version": "3.10.15"
  }
 },
 "nbformat": 4,
 "nbformat_minor": 2
}
