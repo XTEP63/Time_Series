{
 "cells": [
  {
   "cell_type": "code",
   "execution_count": 62,
   "metadata": {},
   "outputs": [],
   "source": [
    "import pandas as pd\n",
    "import datetime as dt \n",
    "import seaborn as sns\n",
    "import matplotlib.pyplot as plt"
   ]
  },
  {
   "cell_type": "code",
   "execution_count": 63,
   "metadata": {},
   "outputs": [
    {
     "data": {
      "text/html": [
       "<div>\n",
       "<style scoped>\n",
       "    .dataframe tbody tr th:only-of-type {\n",
       "        vertical-align: middle;\n",
       "    }\n",
       "\n",
       "    .dataframe tbody tr th {\n",
       "        vertical-align: top;\n",
       "    }\n",
       "\n",
       "    .dataframe thead th {\n",
       "        text-align: right;\n",
       "    }\n",
       "</style>\n",
       "<table border=\"1\" class=\"dataframe\">\n",
       "  <thead>\n",
       "    <tr style=\"text-align: right;\">\n",
       "      <th></th>\n",
       "      <th>SN</th>\n",
       "      <th>Commodity</th>\n",
       "      <th>Date</th>\n",
       "      <th>Unit</th>\n",
       "      <th>Minimum</th>\n",
       "      <th>Maximum</th>\n",
       "      <th>Average</th>\n",
       "    </tr>\n",
       "  </thead>\n",
       "  <tbody>\n",
       "    <tr>\n",
       "      <th>0</th>\n",
       "      <td>4493</td>\n",
       "      <td>Lemon</td>\n",
       "      <td>2013-09-09</td>\n",
       "      <td>Kg</td>\n",
       "      <td>40</td>\n",
       "      <td>50</td>\n",
       "      <td>45.0</td>\n",
       "    </tr>\n",
       "    <tr>\n",
       "      <th>1</th>\n",
       "      <td>4564</td>\n",
       "      <td>Lemon</td>\n",
       "      <td>2013-09-10</td>\n",
       "      <td>Kg</td>\n",
       "      <td>30</td>\n",
       "      <td>40</td>\n",
       "      <td>35.0</td>\n",
       "    </tr>\n",
       "    <tr>\n",
       "      <th>2</th>\n",
       "      <td>4635</td>\n",
       "      <td>Lemon</td>\n",
       "      <td>2013-09-11</td>\n",
       "      <td>Kg</td>\n",
       "      <td>30</td>\n",
       "      <td>35</td>\n",
       "      <td>32.5</td>\n",
       "    </tr>\n",
       "    <tr>\n",
       "      <th>3</th>\n",
       "      <td>5054</td>\n",
       "      <td>Lemon</td>\n",
       "      <td>2013-09-19</td>\n",
       "      <td>Kg</td>\n",
       "      <td>30</td>\n",
       "      <td>35</td>\n",
       "      <td>32.5</td>\n",
       "    </tr>\n",
       "    <tr>\n",
       "      <th>4</th>\n",
       "      <td>5123</td>\n",
       "      <td>Lemon</td>\n",
       "      <td>2013-09-20</td>\n",
       "      <td>Kg</td>\n",
       "      <td>20</td>\n",
       "      <td>25</td>\n",
       "      <td>22.5</td>\n",
       "    </tr>\n",
       "    <tr>\n",
       "      <th>...</th>\n",
       "      <td>...</td>\n",
       "      <td>...</td>\n",
       "      <td>...</td>\n",
       "      <td>...</td>\n",
       "      <td>...</td>\n",
       "      <td>...</td>\n",
       "      <td>...</td>\n",
       "    </tr>\n",
       "    <tr>\n",
       "      <th>589</th>\n",
       "      <td>192324</td>\n",
       "      <td>Lemon</td>\n",
       "      <td>2021-03-25</td>\n",
       "      <td>Kg</td>\n",
       "      <td>50</td>\n",
       "      <td>60</td>\n",
       "      <td>55.0</td>\n",
       "    </tr>\n",
       "    <tr>\n",
       "      <th>590</th>\n",
       "      <td>192431</td>\n",
       "      <td>Lemon</td>\n",
       "      <td>2021-03-26</td>\n",
       "      <td>Kg</td>\n",
       "      <td>50</td>\n",
       "      <td>60</td>\n",
       "      <td>55.0</td>\n",
       "    </tr>\n",
       "    <tr>\n",
       "      <th>591</th>\n",
       "      <td>192536</td>\n",
       "      <td>Lemon</td>\n",
       "      <td>2021-03-27</td>\n",
       "      <td>Kg</td>\n",
       "      <td>50</td>\n",
       "      <td>60</td>\n",
       "      <td>55.0</td>\n",
       "    </tr>\n",
       "    <tr>\n",
       "      <th>592</th>\n",
       "      <td>192642</td>\n",
       "      <td>Lemon</td>\n",
       "      <td>2021-03-28</td>\n",
       "      <td>Kg</td>\n",
       "      <td>50</td>\n",
       "      <td>60</td>\n",
       "      <td>55.0</td>\n",
       "    </tr>\n",
       "    <tr>\n",
       "      <th>593</th>\n",
       "      <td>193362</td>\n",
       "      <td>Lemon</td>\n",
       "      <td>2021-04-04</td>\n",
       "      <td>Kg</td>\n",
       "      <td>50</td>\n",
       "      <td>60</td>\n",
       "      <td>55.0</td>\n",
       "    </tr>\n",
       "  </tbody>\n",
       "</table>\n",
       "<p>594 rows × 7 columns</p>\n",
       "</div>"
      ],
      "text/plain": [
       "         SN Commodity        Date Unit  Minimum  Maximum  Average\n",
       "0      4493     Lemon  2013-09-09   Kg       40       50     45.0\n",
       "1      4564     Lemon  2013-09-10   Kg       30       40     35.0\n",
       "2      4635     Lemon  2013-09-11   Kg       30       35     32.5\n",
       "3      5054     Lemon  2013-09-19   Kg       30       35     32.5\n",
       "4      5123     Lemon  2013-09-20   Kg       20       25     22.5\n",
       "..      ...       ...         ...  ...      ...      ...      ...\n",
       "589  192324     Lemon  2021-03-25   Kg       50       60     55.0\n",
       "590  192431     Lemon  2021-03-26   Kg       50       60     55.0\n",
       "591  192536     Lemon  2021-03-27   Kg       50       60     55.0\n",
       "592  192642     Lemon  2021-03-28   Kg       50       60     55.0\n",
       "593  193362     Lemon  2021-04-04   Kg       50       60     55.0\n",
       "\n",
       "[594 rows x 7 columns]"
      ]
     },
     "execution_count": 63,
     "metadata": {},
     "output_type": "execute_result"
    }
   ],
   "source": [
    "df = pd.read_excel('Lemon.xlsx')\n",
    "df"
   ]
  },
  {
   "cell_type": "code",
   "execution_count": 64,
   "metadata": {},
   "outputs": [
    {
     "data": {
      "text/plain": [
       "594"
      ]
     },
     "execution_count": 64,
     "metadata": {},
     "output_type": "execute_result"
    }
   ],
   "source": [
    "df['Date'].nunique()"
   ]
  },
  {
   "cell_type": "code",
   "execution_count": 65,
   "metadata": {},
   "outputs": [
    {
     "data": {
      "text/plain": [
       "SN             int64\n",
       "Commodity     object\n",
       "Date          object\n",
       "Unit          object\n",
       "Minimum        int64\n",
       "Maximum        int64\n",
       "Average      float64\n",
       "dtype: object"
      ]
     },
     "execution_count": 65,
     "metadata": {},
     "output_type": "execute_result"
    }
   ],
   "source": [
    "df.dtypes"
   ]
  },
  {
   "cell_type": "code",
   "execution_count": 66,
   "metadata": {},
   "outputs": [],
   "source": [
    "df['Date'] = pd.to_datetime(df['Date'], format= 'mixed')\n",
    "df.set_index('Date', inplace = True)"
   ]
  },
  {
   "cell_type": "code",
   "execution_count": 67,
   "metadata": {},
   "outputs": [
    {
     "data": {
      "text/html": [
       "<div>\n",
       "<style scoped>\n",
       "    .dataframe tbody tr th:only-of-type {\n",
       "        vertical-align: middle;\n",
       "    }\n",
       "\n",
       "    .dataframe tbody tr th {\n",
       "        vertical-align: top;\n",
       "    }\n",
       "\n",
       "    .dataframe thead th {\n",
       "        text-align: right;\n",
       "    }\n",
       "</style>\n",
       "<table border=\"1\" class=\"dataframe\">\n",
       "  <thead>\n",
       "    <tr style=\"text-align: right;\">\n",
       "      <th></th>\n",
       "      <th>SN</th>\n",
       "      <th>Commodity</th>\n",
       "      <th>Unit</th>\n",
       "      <th>Minimum</th>\n",
       "      <th>Maximum</th>\n",
       "      <th>Average</th>\n",
       "    </tr>\n",
       "    <tr>\n",
       "      <th>Date</th>\n",
       "      <th></th>\n",
       "      <th></th>\n",
       "      <th></th>\n",
       "      <th></th>\n",
       "      <th></th>\n",
       "      <th></th>\n",
       "    </tr>\n",
       "  </thead>\n",
       "  <tbody>\n",
       "    <tr>\n",
       "      <th>2013-09-09</th>\n",
       "      <td>4493</td>\n",
       "      <td>Lemon</td>\n",
       "      <td>Kg</td>\n",
       "      <td>40</td>\n",
       "      <td>50</td>\n",
       "      <td>45.0</td>\n",
       "    </tr>\n",
       "    <tr>\n",
       "      <th>2013-09-10</th>\n",
       "      <td>4564</td>\n",
       "      <td>Lemon</td>\n",
       "      <td>Kg</td>\n",
       "      <td>30</td>\n",
       "      <td>40</td>\n",
       "      <td>35.0</td>\n",
       "    </tr>\n",
       "    <tr>\n",
       "      <th>2013-09-11</th>\n",
       "      <td>4635</td>\n",
       "      <td>Lemon</td>\n",
       "      <td>Kg</td>\n",
       "      <td>30</td>\n",
       "      <td>35</td>\n",
       "      <td>32.5</td>\n",
       "    </tr>\n",
       "    <tr>\n",
       "      <th>2013-09-19</th>\n",
       "      <td>5054</td>\n",
       "      <td>Lemon</td>\n",
       "      <td>Kg</td>\n",
       "      <td>30</td>\n",
       "      <td>35</td>\n",
       "      <td>32.5</td>\n",
       "    </tr>\n",
       "    <tr>\n",
       "      <th>2013-09-20</th>\n",
       "      <td>5123</td>\n",
       "      <td>Lemon</td>\n",
       "      <td>Kg</td>\n",
       "      <td>20</td>\n",
       "      <td>25</td>\n",
       "      <td>22.5</td>\n",
       "    </tr>\n",
       "    <tr>\n",
       "      <th>...</th>\n",
       "      <td>...</td>\n",
       "      <td>...</td>\n",
       "      <td>...</td>\n",
       "      <td>...</td>\n",
       "      <td>...</td>\n",
       "      <td>...</td>\n",
       "    </tr>\n",
       "    <tr>\n",
       "      <th>2021-03-25</th>\n",
       "      <td>192324</td>\n",
       "      <td>Lemon</td>\n",
       "      <td>Kg</td>\n",
       "      <td>50</td>\n",
       "      <td>60</td>\n",
       "      <td>55.0</td>\n",
       "    </tr>\n",
       "    <tr>\n",
       "      <th>2021-03-26</th>\n",
       "      <td>192431</td>\n",
       "      <td>Lemon</td>\n",
       "      <td>Kg</td>\n",
       "      <td>50</td>\n",
       "      <td>60</td>\n",
       "      <td>55.0</td>\n",
       "    </tr>\n",
       "    <tr>\n",
       "      <th>2021-03-27</th>\n",
       "      <td>192536</td>\n",
       "      <td>Lemon</td>\n",
       "      <td>Kg</td>\n",
       "      <td>50</td>\n",
       "      <td>60</td>\n",
       "      <td>55.0</td>\n",
       "    </tr>\n",
       "    <tr>\n",
       "      <th>2021-03-28</th>\n",
       "      <td>192642</td>\n",
       "      <td>Lemon</td>\n",
       "      <td>Kg</td>\n",
       "      <td>50</td>\n",
       "      <td>60</td>\n",
       "      <td>55.0</td>\n",
       "    </tr>\n",
       "    <tr>\n",
       "      <th>2021-04-04</th>\n",
       "      <td>193362</td>\n",
       "      <td>Lemon</td>\n",
       "      <td>Kg</td>\n",
       "      <td>50</td>\n",
       "      <td>60</td>\n",
       "      <td>55.0</td>\n",
       "    </tr>\n",
       "  </tbody>\n",
       "</table>\n",
       "<p>594 rows × 6 columns</p>\n",
       "</div>"
      ],
      "text/plain": [
       "                SN Commodity Unit  Minimum  Maximum  Average\n",
       "Date                                                        \n",
       "2013-09-09    4493     Lemon   Kg       40       50     45.0\n",
       "2013-09-10    4564     Lemon   Kg       30       40     35.0\n",
       "2013-09-11    4635     Lemon   Kg       30       35     32.5\n",
       "2013-09-19    5054     Lemon   Kg       30       35     32.5\n",
       "2013-09-20    5123     Lemon   Kg       20       25     22.5\n",
       "...            ...       ...  ...      ...      ...      ...\n",
       "2021-03-25  192324     Lemon   Kg       50       60     55.0\n",
       "2021-03-26  192431     Lemon   Kg       50       60     55.0\n",
       "2021-03-27  192536     Lemon   Kg       50       60     55.0\n",
       "2021-03-28  192642     Lemon   Kg       50       60     55.0\n",
       "2021-04-04  193362     Lemon   Kg       50       60     55.0\n",
       "\n",
       "[594 rows x 6 columns]"
      ]
     },
     "execution_count": 67,
     "metadata": {},
     "output_type": "execute_result"
    }
   ],
   "source": [
    "df"
   ]
  },
  {
   "cell_type": "code",
   "execution_count": 68,
   "metadata": {},
   "outputs": [
    {
     "data": {
      "text/plain": [
       "DatetimeIndex(['2013-09-09', '2013-09-10', '2013-09-11', '2013-09-19',\n",
       "               '2013-09-20', '2013-09-22', '2013-09-23', '2013-09-25',\n",
       "               '2013-09-26', '2013-09-27',\n",
       "               ...\n",
       "               '2021-03-20', '2021-03-21', '2021-03-22', '2021-03-23',\n",
       "               '2021-03-24', '2021-03-25', '2021-03-26', '2021-03-27',\n",
       "               '2021-03-28', '2021-04-04'],\n",
       "              dtype='datetime64[ns]', name='Date', length=594, freq=None)"
      ]
     },
     "execution_count": 68,
     "metadata": {},
     "output_type": "execute_result"
    }
   ],
   "source": [
    "df.index"
   ]
  },
  {
   "cell_type": "code",
   "execution_count": 69,
   "metadata": {},
   "outputs": [],
   "source": [
    "df_Average = df.drop(columns=['SN', 'Commodity', 'Unit', 'Minimum', 'Maximum'])"
   ]
  },
  {
   "cell_type": "code",
   "execution_count": 70,
   "metadata": {},
   "outputs": [
    {
     "data": {
      "text/plain": [
       "Text(0.5, 1.0, 'Precio promedio del limon')"
      ]
     },
     "execution_count": 70,
     "metadata": {},
     "output_type": "execute_result"
    },
    {
     "data": {
      "image/png": "[encoded data removed]",
      "text/plain": [
       "<Figure size 640x480 with 1 Axes>"
      ]
     },
     "metadata": {},
     "output_type": "display_data"
    }
   ],
   "source": [
    "sns.lineplot(data = df_Average)\n",
    "plt.ylabel('Average')\n",
    "plt.xlabel('Date')\n",
    "plt.title('Precio promedio del limon')"
   ]
  }
 ],
 "metadata": {
  "kernelspec": {
   "display_name": "ITESO",
   "language": "python",
   "name": "python3"
  },
  "language_info": {
   "codemirror_mode": {
    "name": "ipython",
    "version": 3
   },
   "file_extension": ".py",
   "mimetype": "text/x-python",
   "name": "python",
   "nbconvert_exporter": "python",
   "pygments_lexer": "ipython3",
   "version": "3.10.14"
  }
 },
 "nbformat": 4,
 "nbformat_minor": 2
}
